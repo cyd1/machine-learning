{
 "cells": [
  {
   "cell_type": "code",
   "execution_count": 4,
   "metadata": {},
   "outputs": [
    {
     "data": {
      "text/plain": [
       "[5, 5, 5, 5, 5]"
      ]
     },
     "execution_count": 4,
     "metadata": {},
     "output_type": "execute_result"
    }
   ],
   "source": [
    "[ 5 for i in range(5)]"
   ]
  },
  {
   "cell_type": "code",
   "execution_count": 5,
   "metadata": {},
   "outputs": [],
   "source": [
    "units=[5]+[ 6 for i in range(5)]"
   ]
  },
  {
   "cell_type": "code",
   "execution_count": 6,
   "metadata": {},
   "outputs": [
    {
     "data": {
      "text/plain": [
       "[5, 6, 6, 6, 6, 6]"
      ]
     },
     "execution_count": 6,
     "metadata": {},
     "output_type": "execute_result"
    }
   ],
   "source": [
    "units"
   ]
  },
  {
   "cell_type": "code",
   "execution_count": 7,
   "metadata": {},
   "outputs": [],
   "source": [
    "import numpy as np\n",
    "theta = np.random.rand(6, 6) * 2 * 0.1"
   ]
  },
  {
   "cell_type": "code",
   "execution_count": 8,
   "metadata": {},
   "outputs": [
    {
     "data": {
      "text/plain": [
       "array([[0.02741814, 0.10356672, 0.0445273 , 0.08991502, 0.09260105,\n",
       "        0.09714825],\n",
       "       [0.10911038, 0.15391256, 0.04466203, 0.08214517, 0.16280373,\n",
       "        0.01525387],\n",
       "       [0.15790373, 0.05097278, 0.07246678, 0.05153621, 0.01626708,\n",
       "        0.02882469],\n",
       "       [0.05666661, 0.06132606, 0.14228567, 0.00667101, 0.17282739,\n",
       "        0.02585841],\n",
       "       [0.17179965, 0.05147524, 0.02441491, 0.11906685, 0.14898085,\n",
       "        0.06001863],\n",
       "       [0.05525843, 0.03410592, 0.0706269 , 0.08917456, 0.10510551,\n",
       "        0.00022393]])"
      ]
     },
     "execution_count": 8,
     "metadata": {},
     "output_type": "execute_result"
    }
   ],
   "source": [
    "theta"
   ]
  },
  {
   "cell_type": "code",
   "execution_count": 10,
   "metadata": {},
   "outputs": [
    {
     "name": "stderr",
     "output_type": "stream",
     "text": [
      "D:\\soft\\Python\\lib\\importlib\\_bootstrap.py:219: RuntimeWarning: numpy.ufunc size changed, may indicate binary incompatibility. Expected 192 from C header, got 216 from PyObject\n",
      "  return f(*args, **kwds)\n",
      "D:\\soft\\Python\\lib\\importlib\\_bootstrap.py:219: RuntimeWarning: numpy.ufunc size changed, may indicate binary incompatibility. Expected 192 from C header, got 216 from PyObject\n",
      "  return f(*args, **kwds)\n",
      "D:\\soft\\Python\\lib\\importlib\\_bootstrap.py:219: RuntimeWarning: numpy.ufunc size changed, may indicate binary incompatibility. Expected 192 from C header, got 216 from PyObject\n",
      "  return f(*args, **kwds)\n"
     ]
    }
   ],
   "source": [
    "import numpy as np\n",
    "import pandas as pd\n",
    "from sklearn.datasets import load_iris\n",
    "from sklearn.model_selection  import train_test_split\n",
    "import matplotlib.pyplot as plt\n",
    "%matplotlib inline"
   ]
  },
  {
   "cell_type": "code",
   "execution_count": 11,
   "metadata": {},
   "outputs": [],
   "source": [
    "def create_data():\n",
    "    iris = load_iris()\n",
    "    df = pd.DataFrame(iris.data, columns=iris.feature_names)\n",
    "    df['label'] = iris.target\n",
    "    df.columns = ['sepal length', 'sepal width', 'petal length', 'petal width', 'label']\n",
    "    data = np.array(df.iloc[:100, [0, 1, -1]])\n",
    "    for i in range(len(data)):\n",
    "        if data[i,-1] == 0:\n",
    "            data[i,-1] = -1\n",
    "    # print(data)\n",
    "    return data[:,:2], data[:,-1]"
   ]
  },
  {
   "cell_type": "code",
   "execution_count": 13,
   "metadata": {},
   "outputs": [],
   "source": [
    "X,y=create_data()\n",
    "X_train,X_tests,y_train,y_test=train_test_split(X,y,test_size=0.2)"
   ]
  },
  {
   "cell_type": "code",
   "execution_count": 14,
   "metadata": {},
   "outputs": [
    {
     "data": {
      "text/plain": [
       "AdaBoostClassifier(algorithm='SAMME.R', base_estimator=None, learning_rate=0.5,\n",
       "                   n_estimators=1000, random_state=None)"
      ]
     },
     "execution_count": 14,
     "metadata": {},
     "output_type": "execute_result"
    }
   ],
   "source": [
    "from sklearn.ensemble import AdaBoostClassifier\n",
    "clf=AdaBoostClassifier(n_estimators=1000,learning_rate=0.5)\n",
    "clf.fit(X_train,y_train)"
   ]
  },
  {
   "cell_type": "code",
   "execution_count": 16,
   "metadata": {},
   "outputs": [
    {
     "data": {
      "text/plain": [
       "0.9"
      ]
     },
     "execution_count": 16,
     "metadata": {},
     "output_type": "execute_result"
    }
   ],
   "source": [
    "clf.score(X_tests,y_test)"
   ]
  },
  {
   "cell_type": "code",
   "execution_count": 60,
   "metadata": {},
   "outputs": [],
   "source": [
    "class AdaBoost:\n",
    "    def __init__(self,n_estimators=50,learning_rate=1.0):\n",
    "        self.clf_num=n_estimators\n",
    "        self.learning_rate=learning_rate\n",
    "    def init_args(self,datasets,labels):\n",
    "        self.X=datasets\n",
    "        self.Y=labels\n",
    "        self.M,self.N=datasets.shape\n",
    "        #弱分类器数目和集合，保存(axis,best_v,final_direct)即划分维度，阙值\n",
    "        #final_ditect记录是将大于阙值记为1还是-1\n",
    "        self.clf_sets=[]\n",
    "        #初始化权重\n",
    "        self.weights=[1.0/self.M]*self.M\n",
    "        #G(x)系数\n",
    "        self.alpha=[]\n",
    "    def _G(self,features,labels,weights):\n",
    "        m=len(features)\n",
    "        error=100000.0\n",
    "        best_v=0.0\n",
    "        #某一维特征进行阙值划分\n",
    "        #learning_rate决定尝试阙值下一次更新的长度\n",
    "        features_min=min(features)\n",
    "        features_max=max(features)\n",
    "        n_step=(features_max-features_min+self.learning_rate)//self.learning_rate\n",
    "        \n",
    "        #print('n_step:{}'.format(n_step))\n",
    "        direct,compare_array=None,None\n",
    "        #n_step循环次数，将所有的阙值划分err都计算一遍\n",
    "        for i in range(1,int(n_step)):\n",
    "            v=features_min+self.learning_rate*i\n",
    "            if v not in features:\n",
    "                 #计算误分类个数，用某个维度的阙值对样本进行划分标记\n",
    "                 #  将 features[k]>v的样本标记为1\n",
    "                compare_array_positive=np.array(\n",
    "                [1 if features[k]>v else -1 for k in range(m)])\n",
    "                weights_error_positive=sum(\n",
    "                [\n",
    "                    weights[k] for k in range(m)\n",
    "                    if compare_array_positive[k]!=labels[k]\n",
    "                ])\n",
    "                #  将 features[k]>v的样本标记为-1\n",
    "                compare_array_nagetive=np.array(\n",
    "                [-1 if features[k]>v else 1 for k in range(m)])\n",
    "                \n",
    "                weights_errors_nagetive=sum(\n",
    "                    [weights[k] for k in range(m)\n",
    "                    if compare_array_nagetive[k]!=labels[k]])\n",
    "                \n",
    "                if weights_error_positive<weights_errors_nagetive:\n",
    "                    weight_error=weights_error_positive\n",
    "                    _compare_array=compare_array_positive\n",
    "                    direct='positive'\n",
    "                else:\n",
    "                    weight_error=weights_errors_nagetive\n",
    "                    _compare_array=compare_array_nagetive\n",
    "                    direct='nagetive'\n",
    "                #print('v:{} error:{}'.format(v, weight_error))\n",
    "                if weight_error<error:\n",
    "                    error=weight_error\n",
    "                    compare_array=_compare_array\n",
    "                    best_v=v\n",
    "                    \n",
    "        return best_v,direct,error,compare_array\n",
    "    #G（x）系数\n",
    "    def _alpha(self,error):\n",
    "        return 0.5*np.log((1-error)/error)\n",
    "    #规范化因子\n",
    "    def _Z(self,weights,a,clf):\n",
    "        return sum([\n",
    "            weights[i]*np.exp(-1*a*self.Y[i]*clf[i])\n",
    "            for i in range(self.M)\n",
    "        ])\n",
    "    #权值更新\n",
    "    def _w(self,a,clf,Z):\n",
    "        for i in range(self.M):\n",
    "            self.weights[i]=self.weights[i]*np.exp(-1*a*self.Y[i]*clf[i])/Z\n",
    "    def _f(self,alpha,clf_sets):\n",
    "        pass\n",
    "    #根据阙值预测标记\n",
    "    def G(self,x,v,direct):\n",
    "        if direct=='positive':\n",
    "            return 1 if x>v else -1\n",
    "        else:\n",
    "            return -1 if x>v else 1\n",
    "        \n",
    "    def fit(self,X,y):\n",
    "        self.init_args(X,y)\n",
    "        \n",
    "        for epoch in range(self.clf_num):\n",
    "            best_clf_error,best_v,clf_result=100000,None,None\n",
    "            #遍历维度\n",
    "            for j in range(self.N):\n",
    "                features=self.X[:,j]\n",
    "                v,direct,error,compare_array=self._G(features,self.Y,self.weights)\n",
    "                #寻找最优划分特征的阙值\n",
    "                if error<best_clf_error:\n",
    "                    best_clf_error=error\n",
    "                    best_v=v\n",
    "                    final_direct=direct\n",
    "                    clf_result=compare_array\n",
    "                    #记录当前的维度\n",
    "                    axis=j\n",
    "                if best_clf_error==0:\n",
    "                    break\n",
    "                    \n",
    "            #计算G(X)的系数a\n",
    "            a=self._alpha(best_clf_error)\n",
    "            self.alpha.append(a)\n",
    "            #记录弱分类器\n",
    "            self.clf_sets.append((axis,best_v,final_direct))\n",
    "            \n",
    "            Z=self._Z(self.weights,a,clf_result)\n",
    "            self._w(a,clf_result,Z)\n",
    "            \n",
    "    def predict(self,feature):\n",
    "        #feature是一个样本\n",
    "        result=0.0\n",
    "        #遍历所有弱分类器\n",
    "        for i in range(len(self.clf_sets)):\n",
    "            axis,clf_v,direct=self.clf_sets[i]\n",
    "            f_input=feature[axis]\n",
    "            #累加弱分类器的结果\n",
    "            result+=self.alpha[i]*self.G(f_input,clf_v,direct)\n",
    "        return 1 if result>0 else -1\n",
    "    \n",
    "    def score(self,X_test,y_test):\n",
    "        right_count=0\n",
    "        for i in range(len(X_test)):\n",
    "            feature=X_test[i]\n",
    "            if self.predict(feature)==y_test[i]:\n",
    "                right_count+=1\n",
    "        return right_count/len(X_test)\n",
    "    \n",
    "        "
   ]
  },
  {
   "cell_type": "code",
   "execution_count": 57,
   "metadata": {},
   "outputs": [],
   "source": [
    "X,y=create_data()\n",
    "X_train,X_tests,ytrain,y_test=train_test_split(X,y,test_size=0.33)\n"
   ]
  },
  {
   "cell_type": "code",
   "execution_count": 68,
   "metadata": {},
   "outputs": [
    {
     "data": {
      "text/plain": [
       "0.7878787878787878"
      ]
     },
     "execution_count": 68,
     "metadata": {},
     "output_type": "execute_result"
    }
   ],
   "source": [
    "clf=AdaBoost(n_estimators=10,learning_rate=0.2)\n",
    "clf.fit(X_train,y_train)\n",
    "clf.score(X_tests,y_test)"
   ]
  },
  {
   "cell_type": "code",
   "execution_count": 64,
   "metadata": {},
   "outputs": [
    {
     "name": "stdout",
     "output_type": "stream",
     "text": [
      "126.7878787878788\n"
     ]
    }
   ],
   "source": [
    "result=[]\n",
    "for i in range(1,200):\n",
    "    X,y=create_data()\n",
    "    X_train,X_tests,y_train,y_test=train_test_split(X,y,test_size=0.33)\n",
    "    clf=AdaBoost(n_estimators=100,learning_rate=0.2)\n",
    "    clf.fit(X_train,y_train)\n",
    "    r=clf.score(X_tests,y_test)\n",
    "    result.append(r)\n",
    "print(sum(result))"
   ]
  },
  {
   "cell_type": "code",
   "execution_count": 18,
   "metadata": {},
   "outputs": [
    {
     "data": {
      "text/plain": [
       "2"
      ]
     },
     "execution_count": 18,
     "metadata": {},
     "output_type": "execute_result"
    }
   ],
   "source": [
    "a=1;b=2\n",
    "a;b"
   ]
  },
  {
   "cell_type": "code",
   "execution_count": 21,
   "metadata": {},
   "outputs": [
    {
     "data": {
      "image/png": "[encoded data removed]",
      "text/plain": [
       "<Figure size 432x288 with 1 Axes>"
      ]
     },
     "metadata": {
      "needs_background": "light"
     },
     "output_type": "display_data"
    }
   ],
   "source": [
    "import numpy as np\n",
    "import matplotlib.pyplot as plt\n",
    "%matplotlib inline\n",
    "data=np.genfromtxt('data.csv',delimiter=',')\n",
    "x_data=data[1:,0]\n",
    "y_data=data[1:,1]\n",
    "plt.scatter(x_data,y_data)\n",
    "plt.show()"
   ]
  },
  {
   "cell_type": "code",
   "execution_count": 22,
   "metadata": {},
   "outputs": [],
   "source": [
    "def compute_loss(b,k,x_data,y_data):\n",
    "    loss=0\n",
    "    for i in range(len(x_data)):\n",
    "        loss+=(y_data[i]-(k*x_data[i]+b))**2\n",
    "    return loss/float(len(x_data))/2\n",
    "def gradient_discent(x_data,y_data,lr,epoch,k,b):\n",
    "    batch=len(x_data)\n",
    "    for i in range(epoch):\n",
    "        dz=0\n",
    "        dk=db=0\n",
    "        for j in range(batch):\n",
    "            dz=-(y_data[j]-(k*x_data[j]+b))\n",
    "            dk+=x_data[j]*dz/float(batch)\n",
    "            db+=dz/float(batch)\n",
    "        k-=lr*dk\n",
    "        b-=lr*db\n",
    "    return k,b\n"
   ]
  },
  {
   "cell_type": "code",
   "execution_count": 23,
   "metadata": {},
   "outputs": [
    {
     "data": {
      "image/png": "[encoded data removed]",
      "text/plain": [
       "<Figure size 432x288 with 1 Axes>"
      ]
     },
     "metadata": {
      "needs_background": "light"
     },
     "output_type": "display_data"
    }
   ],
   "source": [
    "b=k=0\n",
    "epoch=100\n",
    "lr=0.01\n",
    "k,b=gradient_discent(x_data,y_data,lr,epoch,k,b)\n",
    "plt.plot(x_data,y_data,'b.')\n",
    "plt.plot(x_data,k*x_data+b,'r')\n",
    "plt.show()"
   ]
  },
  {
   "cell_type": "code",
   "execution_count": null,
   "metadata": {},
   "outputs": [],
   "source": []
  }
 ],
 "metadata": {
  "kernelspec": {
   "display_name": "Python 3",
   "language": "python",
   "name": "python3"
  },
  "language_info": {
   "codemirror_mode": {
    "name": "ipython",
    "version": 3
   },
   "file_extension": ".py",
   "mimetype": "text/x-python",
   "name": "python",
   "nbconvert_exporter": "python",
   "pygments_lexer": "ipython3",
   "version": "3.7.3"
  }
 },
 "nbformat": 4,
 "nbformat_minor": 2
}
